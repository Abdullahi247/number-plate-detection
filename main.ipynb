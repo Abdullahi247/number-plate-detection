{
 "cells": [
  {
   "cell_type": "code",
   "execution_count": 84,
   "id": "435f4f7a",
   "metadata": {},
   "outputs": [],
   "source": [
    "import ultralytics\n",
    "from ultralytics import YOLO\n",
    "import argparse\n",
    "import pytesseract\n",
    "import cv2"
   ]
  },
  {
   "cell_type": "code",
   "execution_count": null,
   "id": "57f7707a",
   "metadata": {},
   "outputs": [],
   "source": [
    "# This is the argument parser to help me detect what the users what the system to perform\n",
    "\n",
    "\n",
    "def arg_parser():\n",
    "    parse_input = argparse.ArgumentParser(\n",
    "        description=\"This project is for detecting cars number plate\"\n",
    "    )\n",
    "    # parse_input.add_argument(\n",
    "    #     \"--mode\",\n",
    "    #     type=str,\n",
    "    #     # required=True,\n",
    "    #     help=\"Please select test or train\",\n",
    "    #     choices=[\"train\", \"test\"],\n",
    "    # )\n",
    "    # parse_input.add_argument(\"--image\", type=str, help=\"Image\")\n",
    "    # parse_input.add_argument(\"--video\", help=\"Image file only\", type=str, )\n",
    "    # parse_input.add_argument(\"epoch\", type=int,)\n",
    "\n",
    "    return parse_input.parse_args([])"
   ]
  },
  {
   "cell_type": "code",
   "execution_count": null,
   "id": "1a5bef76",
   "metadata": {},
   "outputs": [],
   "source": [
    "# models and training\n",
    "\n",
    "\n",
    "def test_trainer(args):\n",
    "    model = YOLO(\"yolov8n.pt\")\n",
    "    model.train(data=args.data, epochs=args.epochs, imgsz=args.images)"
   ]
  },
  {
   "cell_type": "code",
   "execution_count": null,
   "id": "5b352e69",
   "metadata": {},
   "outputs": [],
   "source": [
    "if __name__ == \"__main__\":\n",
    "    args = arg_parser()\n",
    "    args.mode = 'train'\n",
    "    args.epochs = 10\n",
    "    args.data = 'datasets/data.yaml'\n",
    "    args.images = 640\n",
    "    if args.mode == 'train':\n",
    "        test_trainer(args)\n",
    "        "
   ]
  },
  {
   "cell_type": "code",
   "execution_count": 153,
   "id": "210a9f91",
   "metadata": {},
   "outputs": [
    {
     "name": "stdout",
     "output_type": "stream",
     "text": [
      "🔠 Detected Plate Text: \n"
     ]
    }
   ],
   "source": [
    "# saved_model = YOLO(\"runs/detect/train15/weights/best.pt\")  # or last.pt\n",
    "# saved_model.predict(source=\"screenshot2.png\", save=True)\n",
    "\n",
    "result = cv2.imread('runs/detect/predict6/screenshot2.jpg')\n",
    "\n",
    "for box in r.boxes:\n",
    "    x1, y1, x2, y2 = map(int, box.xyxy[0])\n",
    "    cropped = result[y1:y2, x1:x2]\n",
    "\n",
    "    # Resize for better OCR\n",
    "    # cropped = cv2.resize(cropped, None, fx=2, fy=2, interpolation=cv2.INTER_CUBIC)\n",
    "    # cv2.imwrite(\"debug_plate.jpg\", cropped)\n",
    "\n",
    "\n",
    "    # Grayscale and preprocess\n",
    "    gray = cv2.cvtColor(result, cv2.COLOR_BGR2GRAY)\n",
    "    denoised = cv2.bilateralFilter(gray,  d=11, sigmaColor=17, sigmaSpace=17)\n",
    "    thresh = cv2.adaptiveThreshold(denoised, 255, cv2.ADAPTIVE_THRESH_MEAN_C,\n",
    "                                   cv2.THRESH_BINARY, 11, 2)\n",
    "    \n",
    "    kernel = cv2.getStructuringElement(cv2.MORPH_RECT, (2, 2))\n",
    "    morphed = cv2.morphologyEx(thresh, cv2.MORPH_CLOSE, kernel)\n",
    "    cv2.imwrite(\"1_gray.jpg\", gray)\n",
    "    cv2.imwrite(\"2_denoised.jpg\", denoised)\n",
    "    cv2.imwrite(\"3_thresh.jpg\", thresh)\n",
    "    cv2.imwrite(\"4_morphed.jpg\", morphed)\n",
    "    # OCR\n",
    "    text = pytesseract.image_to_string(morphed, config='--psm 7')\n",
    "    print(\"🔠 Detected Plate Text:\", text)"
   ]
  }
 ],
 "metadata": {
  "kernelspec": {
   "display_name": ".venv",
   "language": "python",
   "name": "python3"
  },
  "language_info": {
   "codemirror_mode": {
    "name": "ipython",
    "version": 3
   },
   "file_extension": ".py",
   "mimetype": "text/x-python",
   "name": "python",
   "nbconvert_exporter": "python",
   "pygments_lexer": "ipython3",
   "version": "3.12.9"
  }
 },
 "nbformat": 4,
 "nbformat_minor": 5
}
